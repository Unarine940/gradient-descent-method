{
  "nbformat": 4,
  "nbformat_minor": 0,
  "metadata": {
    "colab": {
      "name": "Untitled7.ipynb",
      "provenance": [],
      "collapsed_sections": []
    },
    "kernelspec": {
      "name": "python3",
      "display_name": "Python 3"
    }
  },
  "cells": [
    {
      "cell_type": "code",
      "metadata": {
        "id": "hTiGstUmO7gt",
        "colab_type": "code",
        "colab": {}
      },
      "source": [
        "import matplotlib.pyplot as plt\n",
        "import numpy as np\n",
        "import pandas as pd\n",
        "\n"
      ],
      "execution_count": 0,
      "outputs": []
    },
    {
      "cell_type": "code",
      "metadata": {
        "id": "KZz2WbeMgwWq",
        "colab_type": "code",
        "colab": {}
      },
      "source": [
        "df = pd.read_csv('weightdataset.csv',sep=';')"
      ],
      "execution_count": 0,
      "outputs": []
    },
    {
      "cell_type": "code",
      "metadata": {
        "id": "bRb6eAiwiSUw",
        "colab_type": "code",
        "colab": {}
      },
      "source": [
        "X = df.iloc[:,1]\n",
        "y = df.iloc[:, 2]\n",
        "m = len(y)"
      ],
      "execution_count": 0,
      "outputs": []
    },
    {
      "cell_type": "code",
      "metadata": {
        "id": "KCCl41JXfbQJ",
        "colab_type": "code",
        "colab": {
          "base_uri": "https://localhost:8080/",
          "height": 34
        },
        "outputId": "9a7fd16f-f3e9-410f-b673-98408e5deea2"
      },
      "source": [
        "iterations = 1000\n",
        "alpha = 0.01\n",
        "\n",
        "X = (X-X.mean())/X.std()\n",
        "X = np.c_[np.ones(X.shape[0]),X]\n",
        "\n",
        "beta = np.array([0, 0])\n",
        "\n",
        "def cost_function(X, y, beta):\n",
        "    \"\"\"\n",
        "    cost_function(X, y, beta) computes the cost of using beta as the\n",
        "    parameter for linear regression to fit the data points in X and y\n",
        "    \"\"\"\n",
        "\n",
        "    J = np.sum((X.dot(beta)-y)**2)/2/m\n",
        "\n",
        "    return J\n",
        "\n",
        "cost_function(X, y, beta)"
      ],
      "execution_count": 42,
      "outputs": [
        {
          "output_type": "execute_result",
          "data": {
            "text/plain": [
              "13546.918787280785"
            ]
          },
          "metadata": {
            "tags": []
          },
          "execution_count": 42
        }
      ]
    },
    {
      "cell_type": "code",
      "metadata": {
        "id": "tZloUAOlfkGM",
        "colab_type": "code",
        "colab": {
          "base_uri": "https://localhost:8080/",
          "height": 34
        },
        "outputId": "f6ea456b-90ab-40fe-e2cc-f0dc4f550321"
      },
      "source": [
        "def gradient_descent(X, y, beta, alpha, iterations):\n",
        "    \"\"\"\n",
        "    gradient_descent() performs gradient descent to learn beta by\n",
        "    taking num_iters gradient steps with learning rate alpha\n",
        "    \"\"\"\n",
        "    cost_history = [0] * iterations\n",
        "\n",
        "    for iteration in range(iterations):\n",
        "        hypothesis = X.dot(beta)\n",
        "        loss = hypothesis-y\n",
        "        gradient = X.T.dot(loss)/m\n",
        "        beta = beta - alpha*gradient\n",
        "        cost = cost_function(X, y, beta)\n",
        "        cost_history[iteration] = cost\n",
        "\n",
        "    return beta, cost_history\n",
        "\n",
        "(b, c) = gradient_descent(X, y, beta, alpha, iterations)\n",
        "\n",
        "print(b)"
      ],
      "execution_count": 43,
      "outputs": [
        {
          "output_type": "stream",
          "text": [
            "[161.43338725  29.69119806]\n"
          ],
          "name": "stdout"
        }
      ]
    },
    {
      "cell_type": "code",
      "metadata": {
        "id": "1he3fgVxftD-",
        "colab_type": "code",
        "colab": {
          "base_uri": "https://localhost:8080/",
          "height": 265
        },
        "outputId": "5de0883a-86f9-4ce3-bf3e-b4050cebc915"
      },
      "source": [
        "plt.plot(c)\n",
        "plt.show()"
      ],
      "execution_count": 44,
      "outputs": [
        {
          "output_type": "display_data",
          "data": {
            "image/png": "[encoded data removed]",
            "text/plain": [
              "<Figure size 432x288 with 1 Axes>"
            ]
          },
          "metadata": {
            "tags": [],
            "needs_background": "light"
          }
        }
      ]
    },
    {
      "cell_type": "code",
      "metadata": {
        "id": "bXn3k-a_lSl0",
        "colab_type": "code",
        "colab": {}
      },
      "source": [
        ""
      ],
      "execution_count": 0,
      "outputs": []
    }
  ]
}